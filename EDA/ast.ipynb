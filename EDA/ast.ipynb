{
 "cells": [
  {
   "cell_type": "code",
   "execution_count": 4,
   "metadata": {},
   "outputs": [],
   "source": [
    "import os\n",
    "import glob\n",
    "import collections\n",
    "import pandas as pd\n",
    "\n",
    "from python_utils import fix_python2, ipynb_to_code, extract_imports\n",
    "from extract_repos import repo_to_df"
   ]
  },
  {
   "cell_type": "code",
   "execution_count": 8,
   "metadata": {},
   "outputs": [
    {
     "data": {
      "text/plain": [
       "['../results/py/aharless_aharless_script.py',\n",
       " '../results/py/clustifier_clustifier_script.py',\n",
       " '../results/py/mpearmain_mpearmain_script.py',\n",
       " '../results/py/inversion_inversion_script.py',\n",
       " '../results/py/ijkilchenko_ijkilchenko_script.py',\n",
       " '../results/py/cbrogan_cbrogan_script.py',\n",
       " '../results/py/gvyshnya_gvyshnya_script.py',\n",
       " '../results/py/davidshinn_davidshinn_script.py',\n",
       " '../results/py/eliotbarr_eliotbarr_script.py',\n",
       " '../results/py/antgoldbloom_antgoldbloom_script.py',\n",
       " '../results/py/sudalairajkumar_sudalairajkumar_script.py',\n",
       " '../results/py/alexandrudaia_alexandrudaia_script.py',\n",
       " '../results/py/tuomastik_tuomastik_script.py',\n",
       " '../results/py/sashakorekov_sashakorekov_script.py',\n",
       " '../results/py/hochthom_hochthom_script.py',\n",
       " '../results/py/the1owl_the1owl_script.py',\n",
       " '../results/py/titericz_titericz_script.py',\n",
       " '../results/py/cast42_cast42_script.py',\n",
       " '../results/py/eurbtc_eurbtc_script.py',\n",
       " '../results/py/paulantoine_paulantoine_script.py',\n",
       " '../results/py/wenxuanchen_wenxuanchen_script.py',\n",
       " '../results/py/apapiu_apapiu_script.py',\n",
       " '../results/py/visoft_visoft_script.py',\n",
       " '../results/py/tilii7_tilii7_script.py',\n",
       " '../results/py/fchollet_fchollet_script.py',\n",
       " '../results/py/cbourguignat_cbourguignat_script.py',\n",
       " '../results/py/svpons_svpons_script.py',\n",
       " '../results/py/iglovikov_iglovikov_script.py',\n",
       " '../results/py/safavieh_safavieh_script.py',\n",
       " '../results/py/kueipo_kueipo_script.py',\n",
       " '../results/py/zfturbo_zfturbo_script.py',\n",
       " '../results/py/hakeem_hakeem_script.py',\n",
       " '../results/py/stanislavushakov_stanislavushakov_script.py',\n",
       " '../results/py/datacanary_datacanary_script.py',\n",
       " '../results/py/ceperaang_ceperaang_script.py',\n",
       " '../results/py/misfyre_misfyre_script.py',\n",
       " '../results/py/hsperr_hsperr_script.py',\n",
       " '../results/py/alexandrebarachant_alexandrebarachant_script.py',\n",
       " '../results/py/act444_act444_script.py',\n",
       " '../results/py/arthurtok_arthurtok_script.py',\n",
       " '../results/py/golubev_golubev_script.py',\n",
       " '../results/py/alexxanderlarko_alexxanderlarko_script.py',\n",
       " '../results/py/solomonk_solomonk_script.py',\n",
       " '../results/py/justfor_justfor_script.py',\n",
       " '../results/py/vascovv_vascovv_script.py',\n",
       " '../results/py/tks0123456789_tks0123456789_script.py',\n",
       " '../results/py/somshubramajumdar_somshubramajumdar_script.py',\n",
       " '../results/py/chefele_chefele_script.py',\n",
       " '../results/py/aquatic_aquatic_script.py',\n",
       " '../results/py/nimesh280_nimesh280_script.py',\n",
       " '../results/py/jpopham91_jpopham91_script.py',\n",
       " '../results/py/tunguz_tunguz_script.py',\n",
       " '../results/py/zusmani_zusmani_script.py',\n",
       " '../results/py/benhamner_benhamner_script.py',\n",
       " '../results/py/arsenyinfo_arsenyinfo_script.py',\n",
       " '../results/py/yekenot_yekenot_script.py',\n",
       " '../results/py/serigne_serigne_script.py',\n",
       " '../results/py/triskelion_triskelion_script.py',\n",
       " '../results/py/cttsai_cttsai_script.py',\n",
       " '../results/py/fmuetsch_fmuetsch_script.py',\n",
       " '../results/py/kamilkk_kamilkk_script.py',\n",
       " '../results/py/optimism_optimism_script.py',\n",
       " '../results/py/kelexu_kelexu_script.py',\n",
       " '../results/py/katacs_katacs_script.py',\n",
       " '../results/py/qqgeogor_qqgeogor_script.py',\n",
       " '../results/py/ogrellier_ogrellier_script.py',\n",
       " '../results/py/mariusbo_mariusbo_script.py',\n",
       " '../results/py/ymcdull_ymcdull_script.py',\n",
       " '../results/py/mtinti_mtinti_script.py',\n",
       " '../results/py/ceshine_ceshine_script.py',\n",
       " '../results/py/drn01z3_drn01z3_script.py',\n",
       " '../results/py/xbf6xbf_xbf6xbf_script.py',\n",
       " '../results/py/scirpus_scirpus_script.py',\n",
       " '../results/py/xiaozhouwang_xiaozhouwang_script.py',\n",
       " '../results/py/wendykan_wendykan_script.py',\n",
       " '../results/py/alphasis_alphasis_script.py',\n",
       " '../results/py/behcetsenturk_behcetsenturk_script.py',\n",
       " '../results/py/abriosi_abriosi_script.py',\n",
       " '../results/py/abhishek_abhishek_script.py',\n",
       " '../results/py/opanichev_opanichev_script.py',\n",
       " '../results/py/zeroblue_zeroblue_script.py',\n",
       " '../results/py/danijelk_danijelk_script.py',\n",
       " '../results/py/humananalog_humananalog_script.py',\n",
       " '../results/py/yuansun_yuansun_script.py',\n",
       " '../results/py/lystdo_lystdo_script.py',\n",
       " '../results/py/jiweiliu_jiweiliu_script.py',\n",
       " '../results/py/dbennett_dbennett_script.py',\n",
       " '../results/py/davidfumo_davidfumo_script.py',\n",
       " '../results/py/petrosgk_petrosgk_script.py',\n",
       " '../results/py/umbertogriffo_umbertogriffo_script.py',\n",
       " '../results/py/vpaslay_vpaslay_script.py',\n",
       " '../results/py/willieliao_willieliao_script.py',\n",
       " '../results/py/trottefox_trottefox_script.py',\n",
       " '../results/py/swbevan_swbevan_script.py',\n",
       " '../results/py/infinitewing_infinitewing_script.py',\n",
       " '../results/py/guolinke_guolinke_script.py',\n",
       " '../results/py/rakhlin_rakhlin_script.py',\n",
       " '../results/py/mmueller_mmueller_script.py',\n",
       " '../results/py/slothouber_slothouber_script.py',\n",
       " '../results/py/paulorzp_paulorzp_script.py',\n",
       " '../results/py/bguberfain_bguberfain_script.py',\n",
       " '../results/py/cpmpml_cpmpml_script.py',\n",
       " '../results/py/threeplusone_threeplusone_script.py',\n",
       " '../results/py/xiaoml_xiaoml_script.py',\n",
       " '../results/py/heyt0ny_heyt0ny_script.py',\n",
       " '../results/py/elenacuoco_elenacuoco_script.py',\n",
       " '../results/py/amanbh_amanbh_script.py',\n",
       " '../results/py/gpapadop79_gpapadop79_script.py',\n",
       " '../results/py/anokas_anokas_script.py',\n",
       " '../results/py/gaborfodor_gaborfodor_script.py',\n",
       " '../results/py/gshguru_gshguru_script.py',\n",
       " '../results/py/abdelwahedassklou_abdelwahedassklou_script.py']"
      ]
     },
     "execution_count": 8,
     "metadata": {},
     "output_type": "execute_result"
    }
   ],
   "source": [
    "fns = glob.glob('../results/py/*')\n",
    "fns"
   ]
  },
  {
   "cell_type": "code",
   "execution_count": null,
   "metadata": {},
   "outputs": [],
   "source": []
  },
  {
   "cell_type": "code",
   "execution_count": 14,
   "metadata": {},
   "outputs": [
    {
     "data": {
      "text/plain": [
       "[('', 'py', None)]"
      ]
     },
     "execution_count": 14,
     "metadata": {},
     "output_type": "execute_result"
    }
   ],
   "source": [
    "list(extract_imports('import py'))"
   ]
  },
  {
   "cell_type": "code",
   "execution_count": 17,
   "metadata": {},
   "outputs": [
    {
     "name": "stdout",
     "output_type": "stream",
     "text": [
      "[('', 'pandas', 'pd'), ('', 'numpy', 'np')]\n"
     ]
    }
   ],
   "source": [
    "with open(fns[1]) as f:\n",
    "    src = f.read()\n",
    "    print(list(extract_imports(src)))"
   ]
  }
 ],
 "metadata": {
  "kernelspec": {
   "display_name": "Python 3",
   "language": "python",
   "name": "python3"
  },
  "language_info": {
   "codemirror_mode": {
    "name": "ipython",
    "version": 3
   },
   "file_extension": ".py",
   "mimetype": "text/x-python",
   "name": "python",
   "nbconvert_exporter": "python",
   "pygments_lexer": "ipython3",
   "version": "3.5.2"
  }
 },
 "nbformat": 4,
 "nbformat_minor": 2
}
